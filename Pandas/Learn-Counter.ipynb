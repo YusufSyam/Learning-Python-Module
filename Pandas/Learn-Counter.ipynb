{
 "cells": [
  {
   "cell_type": "code",
   "execution_count": 1,
   "id": "e322afa9",
   "metadata": {},
   "outputs": [],
   "source": [
    "import pandas as pd\n",
    "from collections import Counter\n",
    "from matplotlib import pyplot as plt"
   ]
  },
  {
   "cell_type": "code",
   "execution_count": 2,
   "id": "768621d5",
   "metadata": {},
   "outputs": [
    {
     "data": {
      "text/html": [
       "<div>\n",
       "<style scoped>\n",
       "    .dataframe tbody tr th:only-of-type {\n",
       "        vertical-align: middle;\n",
       "    }\n",
       "\n",
       "    .dataframe tbody tr th {\n",
       "        vertical-align: top;\n",
       "    }\n",
       "\n",
       "    .dataframe thead th {\n",
       "        text-align: right;\n",
       "    }\n",
       "</style>\n",
       "<table border=\"1\" class=\"dataframe\">\n",
       "  <thead>\n",
       "    <tr style=\"text-align: right;\">\n",
       "      <th></th>\n",
       "      <th>Name</th>\n",
       "      <th>Year of release</th>\n",
       "      <th>Aired Date</th>\n",
       "      <th>Aired On</th>\n",
       "      <th>Number of Episode</th>\n",
       "      <th>Network</th>\n",
       "      <th>Duration</th>\n",
       "      <th>Content Rating</th>\n",
       "      <th>Synopsis</th>\n",
       "      <th>Cast</th>\n",
       "      <th>Genre</th>\n",
       "      <th>Tags</th>\n",
       "      <th>Rank</th>\n",
       "      <th>Rating</th>\n",
       "    </tr>\n",
       "  </thead>\n",
       "  <tbody>\n",
       "    <tr>\n",
       "      <th>0</th>\n",
       "      <td>Move to Heaven</td>\n",
       "      <td>2021</td>\n",
       "      <td>May 14, 2021</td>\n",
       "      <td>Friday</td>\n",
       "      <td>10</td>\n",
       "      <td>Netflix,  Netflix,  Netflix,  Netflix</td>\n",
       "      <td>52 min.</td>\n",
       "      <td>18+ Restricted (violence &amp; profanity)</td>\n",
       "      <td>Geu Roo is a young autistic man. He works for ...</td>\n",
       "      <td>Lee Je Hoon, Tang Jun Sang, Hong Seung Hee, Ju...</td>\n",
       "      <td>Life,  Drama,  Family</td>\n",
       "      <td>Autism, Father-Son Relationship, Uncle-Nephew ...</td>\n",
       "      <td>#1</td>\n",
       "      <td>9.2</td>\n",
       "    </tr>\n",
       "    <tr>\n",
       "      <th>1</th>\n",
       "      <td>Hospital Playlist</td>\n",
       "      <td>2020</td>\n",
       "      <td>Mar 12, 2020 - May 28, 2020</td>\n",
       "      <td>Thursday</td>\n",
       "      <td>12</td>\n",
       "      <td>tvN,  Netflix,  Netflix,  Netflix,  Netflix</td>\n",
       "      <td>1 hr. 30 min.</td>\n",
       "      <td>15+ - Teens 15 or older</td>\n",
       "      <td>The stories of people going through their days...</td>\n",
       "      <td>Jo Jung Suk, Yoo Yeon Seok, Jung Kyung Ho, Kim...</td>\n",
       "      <td>Friendship,  Romance,  Life,  Medical</td>\n",
       "      <td>Strong Friendship, Doctor, Multiple Mains, Slo...</td>\n",
       "      <td>#2</td>\n",
       "      <td>9.1</td>\n",
       "    </tr>\n",
       "    <tr>\n",
       "      <th>2</th>\n",
       "      <td>Flower of Evil</td>\n",
       "      <td>2020</td>\n",
       "      <td>Jul 29, 2020 - Sep 23, 2020</td>\n",
       "      <td>Wednesday, Thursday</td>\n",
       "      <td>16</td>\n",
       "      <td>tvN</td>\n",
       "      <td>1 hr. 10 min.</td>\n",
       "      <td>15+ - Teens 15 or older</td>\n",
       "      <td>Although Baek Hee Sung is hiding a dark secret...</td>\n",
       "      <td>Lee Joon Gi, Moon Chae Won, Jang Hee Jin, Seo ...</td>\n",
       "      <td>Thriller,  Romance,  Crime,  Melodrama</td>\n",
       "      <td>Married Couple, Deception, Suspense, Family Se...</td>\n",
       "      <td>#3</td>\n",
       "      <td>9.1</td>\n",
       "    </tr>\n",
       "    <tr>\n",
       "      <th>3</th>\n",
       "      <td>My Mister</td>\n",
       "      <td>2018</td>\n",
       "      <td>Mar 21, 2018 - May 17, 2018</td>\n",
       "      <td>Wednesday, Thursday</td>\n",
       "      <td>16</td>\n",
       "      <td>tvN</td>\n",
       "      <td>1 hr. 17 min.</td>\n",
       "      <td>15+ - Teens 15 or older</td>\n",
       "      <td>Park Dong Hoon is a middle-aged engineer who i...</td>\n",
       "      <td>Lee Sun Kyun, IU, Park Ho San, Song Sae Byuk, ...</td>\n",
       "      <td>Business,  Psychological,  Life,  Drama,  Family</td>\n",
       "      <td>Nice Male Lead, Strong Female Lead, Hardship, ...</td>\n",
       "      <td>#4</td>\n",
       "      <td>9.1</td>\n",
       "    </tr>\n",
       "    <tr>\n",
       "      <th>4</th>\n",
       "      <td>Prison Playbook</td>\n",
       "      <td>2017</td>\n",
       "      <td>Nov 22, 2017 - Jan 18, 2018</td>\n",
       "      <td>Wednesday, Thursday</td>\n",
       "      <td>16</td>\n",
       "      <td>tvN,  Netflix,  Netflix,  Netflix,  Netflix</td>\n",
       "      <td>1 hr. 32 min.</td>\n",
       "      <td>15+ - Teens 15 or older</td>\n",
       "      <td>Kim Je Hyuk, a famous baseball player, is arre...</td>\n",
       "      <td>Park Hae Soo, Jung Kyung Ho, Krystal, Im Hwa Y...</td>\n",
       "      <td>Comedy,  Life,  Drama</td>\n",
       "      <td>Prison, Bromance, Wrongfully Accused, Life Les...</td>\n",
       "      <td>#5</td>\n",
       "      <td>9.1</td>\n",
       "    </tr>\n",
       "  </tbody>\n",
       "</table>\n",
       "</div>"
      ],
      "text/plain": [
       "                Name  Year of release                   Aired Date  \\\n",
       "0     Move to Heaven             2021                 May 14, 2021   \n",
       "1  Hospital Playlist             2020  Mar 12, 2020 - May 28, 2020   \n",
       "2     Flower of Evil             2020  Jul 29, 2020 - Sep 23, 2020   \n",
       "3          My Mister             2018  Mar 21, 2018 - May 17, 2018   \n",
       "4    Prison Playbook             2017  Nov 22, 2017 - Jan 18, 2018   \n",
       "\n",
       "               Aired On  Number of Episode  \\\n",
       "0                Friday                 10   \n",
       "1              Thursday                 12   \n",
       "2   Wednesday, Thursday                 16   \n",
       "3   Wednesday, Thursday                 16   \n",
       "4   Wednesday, Thursday                 16   \n",
       "\n",
       "                                        Network       Duration  \\\n",
       "0        Netflix,  Netflix,  Netflix,  Netflix         52 min.   \n",
       "1  tvN,  Netflix,  Netflix,  Netflix,  Netflix   1 hr. 30 min.   \n",
       "2                                          tvN   1 hr. 10 min.   \n",
       "3                                          tvN   1 hr. 17 min.   \n",
       "4  tvN,  Netflix,  Netflix,  Netflix,  Netflix   1 hr. 32 min.   \n",
       "\n",
       "                           Content Rating  \\\n",
       "0  18+ Restricted (violence & profanity)    \n",
       "1                15+ - Teens 15 or older    \n",
       "2                15+ - Teens 15 or older    \n",
       "3                15+ - Teens 15 or older    \n",
       "4                15+ - Teens 15 or older    \n",
       "\n",
       "                                            Synopsis  \\\n",
       "0  Geu Roo is a young autistic man. He works for ...   \n",
       "1  The stories of people going through their days...   \n",
       "2  Although Baek Hee Sung is hiding a dark secret...   \n",
       "3  Park Dong Hoon is a middle-aged engineer who i...   \n",
       "4  Kim Je Hyuk, a famous baseball player, is arre...   \n",
       "\n",
       "                                                Cast  \\\n",
       "0  Lee Je Hoon, Tang Jun Sang, Hong Seung Hee, Ju...   \n",
       "1  Jo Jung Suk, Yoo Yeon Seok, Jung Kyung Ho, Kim...   \n",
       "2  Lee Joon Gi, Moon Chae Won, Jang Hee Jin, Seo ...   \n",
       "3  Lee Sun Kyun, IU, Park Ho San, Song Sae Byuk, ...   \n",
       "4  Park Hae Soo, Jung Kyung Ho, Krystal, Im Hwa Y...   \n",
       "\n",
       "                                               Genre  \\\n",
       "0                             Life,  Drama,  Family    \n",
       "1             Friendship,  Romance,  Life,  Medical    \n",
       "2            Thriller,  Romance,  Crime,  Melodrama    \n",
       "3  Business,  Psychological,  Life,  Drama,  Family    \n",
       "4                             Comedy,  Life,  Drama    \n",
       "\n",
       "                                                Tags Rank  Rating  \n",
       "0  Autism, Father-Son Relationship, Uncle-Nephew ...   #1     9.2  \n",
       "1  Strong Friendship, Doctor, Multiple Mains, Slo...   #2     9.1  \n",
       "2  Married Couple, Deception, Suspense, Family Se...   #3     9.1  \n",
       "3  Nice Male Lead, Strong Female Lead, Hardship, ...   #4     9.1  \n",
       "4  Prison, Bromance, Wrongfully Accused, Life Les...   #5     9.1  "
      ]
     },
     "execution_count": 2,
     "metadata": {},
     "output_type": "execute_result"
    }
   ],
   "source": [
    "data= pd.read_csv('top100_kdrama.csv')\n",
    "data.head()"
   ]
  },
  {
   "cell_type": "code",
   "execution_count": 3,
   "id": "69590719",
   "metadata": {},
   "outputs": [
    {
     "data": {
      "text/plain": [
       "0                               Life,  Drama,  Family\n",
       "1               Friendship,  Romance,  Life,  Medical\n",
       "2              Thriller,  Romance,  Crime,  Melodrama\n",
       "3    Business,  Psychological,  Life,  Drama,  Family\n",
       "4                               Comedy,  Life,  Drama\n",
       "Name: Genre, dtype: object"
      ]
     },
     "execution_count": 3,
     "metadata": {},
     "output_type": "execute_result"
    }
   ],
   "source": [
    "genre= data['Genre'].str.strip()\n",
    "genre.head()"
   ]
  },
  {
   "cell_type": "code",
   "execution_count": 28,
   "id": "18425f8c",
   "metadata": {},
   "outputs": [],
   "source": [
    "genre_counter= Counter()\n",
    "\n",
    "for row in genre:\n",
    "    genre_counter.update(row.split(',  '))"
   ]
  },
  {
   "cell_type": "code",
   "execution_count": 5,
   "id": "2ef790ff",
   "metadata": {},
   "outputs": [
    {
     "data": {
      "text/plain": [
       "Counter({'Life': 20,\n",
       "         'Drama': 71,\n",
       "         'Family': 20,\n",
       "         'Friendship': 18,\n",
       "         'Romance': 53,\n",
       "         'Medical': 7,\n",
       "         'Thriller': 32,\n",
       "         'Crime': 20,\n",
       "         'Melodrama': 18,\n",
       "         'Business': 8,\n",
       "         'Psychological': 16,\n",
       "         'Comedy': 42,\n",
       "         'Youth': 8,\n",
       "         'Mystery': 30,\n",
       "         'Supernatural': 11,\n",
       "         'Historical': 15,\n",
       "         'Fantasy': 16,\n",
       "         'Suspense': 10,\n",
       "         'Law': 7,\n",
       "         'Military': 3,\n",
       "         'Political': 12,\n",
       "         'Horror': 7,\n",
       "         'Zombies': 2,\n",
       "         'Action': 19,\n",
       "         'School': 5,\n",
       "         'Sports': 3,\n",
       "         'Martial Arts': 1,\n",
       "         'Sci-Fi': 3,\n",
       "         'Food': 2,\n",
       "         'Investigation': 2,\n",
       "         'Music': 1})"
      ]
     },
     "execution_count": 5,
     "metadata": {},
     "output_type": "execute_result"
    }
   ],
   "source": [
    "genre_counter"
   ]
  },
  {
   "cell_type": "code",
   "execution_count": 6,
   "id": "88aba711",
   "metadata": {},
   "outputs": [],
   "source": [
    "# Memisah antara genre dan jumlahnya\n",
    "\n",
    "genre_list= []\n",
    "genre_count= []\n",
    "\n",
    "for i in genre_counter:\n",
    "    genre_list.append(i)\n",
    "    genre_count.append(genre_counter[i])"
   ]
  },
  {
   "cell_type": "code",
   "execution_count": 39,
   "id": "a275f6ff",
   "metadata": {},
   "outputs": [
    {
     "data": {
      "text/plain": [
       "(['Life',\n",
       "  'Drama',\n",
       "  'Family',\n",
       "  'Friendship',\n",
       "  'Romance',\n",
       "  'Medical',\n",
       "  'Thriller',\n",
       "  'Crime',\n",
       "  'Melodrama',\n",
       "  'Business',\n",
       "  'Psychological',\n",
       "  'Comedy',\n",
       "  'Youth',\n",
       "  'Mystery',\n",
       "  'Supernatural',\n",
       "  'Historical',\n",
       "  'Fantasy',\n",
       "  'Suspense',\n",
       "  'Law',\n",
       "  'Military',\n",
       "  'Political',\n",
       "  'Horror',\n",
       "  'Zombies',\n",
       "  'Action',\n",
       "  'School',\n",
       "  'Sports',\n",
       "  'Martial Arts',\n",
       "  'Sci-Fi',\n",
       "  'Food',\n",
       "  'Investigation',\n",
       "  'Music'],\n",
       " [20,\n",
       "  71,\n",
       "  20,\n",
       "  18,\n",
       "  53,\n",
       "  7,\n",
       "  32,\n",
       "  20,\n",
       "  18,\n",
       "  8,\n",
       "  16,\n",
       "  42,\n",
       "  8,\n",
       "  30,\n",
       "  11,\n",
       "  15,\n",
       "  16,\n",
       "  10,\n",
       "  7,\n",
       "  3,\n",
       "  12,\n",
       "  7,\n",
       "  2,\n",
       "  19,\n",
       "  5,\n",
       "  3,\n",
       "  1,\n",
       "  3,\n",
       "  2,\n",
       "  2,\n",
       "  1])"
      ]
     },
     "execution_count": 39,
     "metadata": {},
     "output_type": "execute_result"
    }
   ],
   "source": [
    "genre_list= [ i for i in genre_counter]\n",
    "genre_count= [ genre_counter[i] for i in genre_counter]\n",
    "\n",
    "genre_list, genre_count"
   ]
  },
  {
   "cell_type": "code",
   "execution_count": 7,
   "id": "f4fd3c35",
   "metadata": {},
   "outputs": [
    {
     "data": {
      "image/png": "[encoded data removed]",
      "text/plain": [
       "<Figure size 432x288 with 1 Axes>"
      ]
     },
     "metadata": {
      "needs_background": "light"
     },
     "output_type": "display_data"
    }
   ],
   "source": [
    "# Plot\n",
    "plt.barh(genre_list, genre_count)\n",
    "plt.show()"
   ]
  },
  {
   "cell_type": "code",
   "execution_count": 8,
   "id": "efb53958",
   "metadata": {},
   "outputs": [
    {
     "data": {
      "text/html": [
       "<div>\n",
       "<style scoped>\n",
       "    .dataframe tbody tr th:only-of-type {\n",
       "        vertical-align: middle;\n",
       "    }\n",
       "\n",
       "    .dataframe tbody tr th {\n",
       "        vertical-align: top;\n",
       "    }\n",
       "\n",
       "    .dataframe thead th {\n",
       "        text-align: right;\n",
       "    }\n",
       "</style>\n",
       "<table border=\"1\" class=\"dataframe\">\n",
       "  <thead>\n",
       "    <tr style=\"text-align: right;\">\n",
       "      <th></th>\n",
       "      <th>Genre count</th>\n",
       "    </tr>\n",
       "  </thead>\n",
       "  <tbody>\n",
       "    <tr>\n",
       "      <th>Life</th>\n",
       "      <td>20</td>\n",
       "    </tr>\n",
       "    <tr>\n",
       "      <th>Drama</th>\n",
       "      <td>71</td>\n",
       "    </tr>\n",
       "    <tr>\n",
       "      <th>Family</th>\n",
       "      <td>20</td>\n",
       "    </tr>\n",
       "    <tr>\n",
       "      <th>Friendship</th>\n",
       "      <td>18</td>\n",
       "    </tr>\n",
       "    <tr>\n",
       "      <th>Romance</th>\n",
       "      <td>53</td>\n",
       "    </tr>\n",
       "  </tbody>\n",
       "</table>\n",
       "</div>"
      ],
      "text/plain": [
       "            Genre count\n",
       "Life                 20\n",
       "Drama                71\n",
       "Family               20\n",
       "Friendship           18\n",
       "Romance              53"
      ]
     },
     "execution_count": 8,
     "metadata": {},
     "output_type": "execute_result"
    }
   ],
   "source": [
    "# plot dari pandas\n",
    "x= pd.DataFrame(genre_count, genre_list, columns=['Genre count'])\n",
    "x.head()"
   ]
  },
  {
   "cell_type": "code",
   "execution_count": 9,
   "id": "0d6acaa8",
   "metadata": {},
   "outputs": [
    {
     "data": {
      "text/plain": [
       "<AxesSubplot:>"
      ]
     },
     "execution_count": 9,
     "metadata": {},
     "output_type": "execute_result"
    },
    {
     "data": {
      "image/png": "[encoded data removed]",
      "text/plain": [
       "<Figure size 1008x576 with 1 Axes>"
      ]
     },
     "metadata": {
      "needs_background": "light"
     },
     "output_type": "display_data"
    }
   ],
   "source": [
    "x.plot(kind='bar', figsize=(14,8))"
   ]
  },
  {
   "cell_type": "code",
   "execution_count": null,
   "id": "23bb114a",
   "metadata": {},
   "outputs": [],
   "source": []
  }
 ],
 "metadata": {
  "kernelspec": {
   "display_name": "Python 3 (ipykernel)",
   "language": "python",
   "name": "python3"
  },
  "language_info": {
   "codemirror_mode": {
    "name": "ipython",
    "version": 3
   },
   "file_extension": ".py",
   "mimetype": "text/x-python",
   "name": "python",
   "nbconvert_exporter": "python",
   "pygments_lexer": "ipython3",
   "version": "3.7.7"
  }
 },
 "nbformat": 4,
 "nbformat_minor": 5
}
