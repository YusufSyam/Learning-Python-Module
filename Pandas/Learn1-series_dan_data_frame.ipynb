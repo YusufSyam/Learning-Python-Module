{
 "cells": [
  {
   "cell_type": "code",
   "execution_count": 1,
   "id": "ca1f4fde",
   "metadata": {},
   "outputs": [],
   "source": [
    "import pandas as pd\n",
    "import numpy as np\n",
    "from mlxtend.frequent_patterns import apriori, association_rules"
   ]
  },
  {
   "cell_type": "markdown",
   "id": "6ba14a8f",
   "metadata": {},
   "source": [
    "# SERIES"
   ]
  },
  {
   "cell_type": "code",
   "execution_count": 2,
   "id": "99119a22",
   "metadata": {},
   "outputs": [],
   "source": [
    "# Membuat series\n",
    "\n",
    "angka1= [1,2,3]\n",
    "nama_angka1= ['satu', 'dua', 'tiga']\n",
    "\n",
    "# Series dengan indeks default, 0 1 2 ...\n",
    "series1= pd.Series(data=angka1)\n",
    "\n",
    "# Series dengan indeks yang dimodifikasi, jadi kaya dictionary\n",
    "series2= pd.Series(data=angka1, index=nama_angka1)\n",
    "\n",
    "# Bisa juga series1.index= nama_angka1"
   ]
  },
  {
   "cell_type": "code",
   "execution_count": 3,
   "id": "2518e21f",
   "metadata": {},
   "outputs": [
    {
     "data": {
      "text/plain": [
       "0    1\n",
       "1    2\n",
       "2    3\n",
       "dtype: int64"
      ]
     },
     "execution_count": 3,
     "metadata": {},
     "output_type": "execute_result"
    }
   ],
   "source": [
    "series1"
   ]
  },
  {
   "cell_type": "code",
   "execution_count": 4,
   "id": "ecf6427e",
   "metadata": {},
   "outputs": [
    {
     "data": {
      "text/plain": [
       "satu    1\n",
       "dua     2\n",
       "tiga    3\n",
       "dtype: int64"
      ]
     },
     "execution_count": 4,
     "metadata": {},
     "output_type": "execute_result"
    }
   ],
   "source": [
    "series2"
   ]
  },
  {
   "cell_type": "code",
   "execution_count": 5,
   "id": "0b87de28",
   "metadata": {},
   "outputs": [
    {
     "data": {
      "text/plain": [
       "empat    4\n",
       "lima     5\n",
       "enam     6\n",
       "dtype: int64"
      ]
     },
     "execution_count": 5,
     "metadata": {},
     "output_type": "execute_result"
    }
   ],
   "source": [
    "# Membuat series dari dictionary\n",
    "dict1= {'empat':4, 'lima':5, 'enam':6}\n",
    "pd.Series(dict1)"
   ]
  },
  {
   "cell_type": "code",
   "execution_count": 6,
   "id": "77f4dfda",
   "metadata": {},
   "outputs": [
    {
     "data": {
      "text/plain": [
       "array([1, 2, 3], dtype=int64)"
      ]
     },
     "execution_count": 6,
     "metadata": {},
     "output_type": "execute_result"
    }
   ],
   "source": [
    "# Mengubah series menjadi array, cukup menambahkan .values\n",
    "series1_to_array= series1.values\n",
    "series1_to_array"
   ]
  },
  {
   "cell_type": "markdown",
   "id": "01acc367",
   "metadata": {},
   "source": [
    "# DATA FRAME"
   ]
  },
  {
   "cell_type": "code",
   "execution_count": 7,
   "id": "217e5b6f",
   "metadata": {},
   "outputs": [],
   "source": [
    "# Membuat data frame\n",
    "# Data digenerate oleh numpy random, dengan arg 2 dan 3 adalah nama baris dan kolom\n",
    "df1= pd.DataFrame(np.random.rand(3,4), ['A', 'B', 'C'], ['Col 1', 'Col 2', 'Col 3', 'Col 4'])"
   ]
  },
  {
   "cell_type": "code",
   "execution_count": 8,
   "id": "561a0e0c",
   "metadata": {},
   "outputs": [
    {
     "data": {
      "text/html": [
       "<div>\n",
       "<style scoped>\n",
       "    .dataframe tbody tr th:only-of-type {\n",
       "        vertical-align: middle;\n",
       "    }\n",
       "\n",
       "    .dataframe tbody tr th {\n",
       "        vertical-align: top;\n",
       "    }\n",
       "\n",
       "    .dataframe thead th {\n",
       "        text-align: right;\n",
       "    }\n",
       "</style>\n",
       "<table border=\"1\" class=\"dataframe\">\n",
       "  <thead>\n",
       "    <tr style=\"text-align: right;\">\n",
       "      <th></th>\n",
       "      <th>Col 1</th>\n",
       "      <th>Col 2</th>\n",
       "      <th>Col 3</th>\n",
       "      <th>Col 4</th>\n",
       "    </tr>\n",
       "  </thead>\n",
       "  <tbody>\n",
       "    <tr>\n",
       "      <th>A</th>\n",
       "      <td>0.034172</td>\n",
       "      <td>0.589131</td>\n",
       "      <td>0.159810</td>\n",
       "      <td>0.777023</td>\n",
       "    </tr>\n",
       "    <tr>\n",
       "      <th>B</th>\n",
       "      <td>0.791108</td>\n",
       "      <td>0.082328</td>\n",
       "      <td>0.811851</td>\n",
       "      <td>0.317126</td>\n",
       "    </tr>\n",
       "    <tr>\n",
       "      <th>C</th>\n",
       "      <td>0.166927</td>\n",
       "      <td>0.279908</td>\n",
       "      <td>0.780668</td>\n",
       "      <td>0.999174</td>\n",
       "    </tr>\n",
       "  </tbody>\n",
       "</table>\n",
       "</div>"
      ],
      "text/plain": [
       "      Col 1     Col 2     Col 3     Col 4\n",
       "A  0.034172  0.589131  0.159810  0.777023\n",
       "B  0.791108  0.082328  0.811851  0.317126\n",
       "C  0.166927  0.279908  0.780668  0.999174"
      ]
     },
     "execution_count": 8,
     "metadata": {},
     "output_type": "execute_result"
    }
   ],
   "source": [
    "df1"
   ]
  },
  {
   "cell_type": "code",
   "execution_count": 9,
   "id": "573c03a0",
   "metadata": {},
   "outputs": [],
   "source": [
    "# Menambah kolom baru berdasarkan hasil pertambahan col 3 dan col 2\n",
    "df1['Col baru']= df1['Col 3']+df1['Col 2']"
   ]
  },
  {
   "cell_type": "code",
   "execution_count": 10,
   "id": "155ee41b",
   "metadata": {},
   "outputs": [
    {
     "data": {
      "text/html": [
       "<div>\n",
       "<style scoped>\n",
       "    .dataframe tbody tr th:only-of-type {\n",
       "        vertical-align: middle;\n",
       "    }\n",
       "\n",
       "    .dataframe tbody tr th {\n",
       "        vertical-align: top;\n",
       "    }\n",
       "\n",
       "    .dataframe thead th {\n",
       "        text-align: right;\n",
       "    }\n",
       "</style>\n",
       "<table border=\"1\" class=\"dataframe\">\n",
       "  <thead>\n",
       "    <tr style=\"text-align: right;\">\n",
       "      <th></th>\n",
       "      <th>Col 1</th>\n",
       "      <th>Col 2</th>\n",
       "      <th>Col 3</th>\n",
       "      <th>Col 4</th>\n",
       "      <th>Col baru</th>\n",
       "    </tr>\n",
       "  </thead>\n",
       "  <tbody>\n",
       "    <tr>\n",
       "      <th>A</th>\n",
       "      <td>0.034172</td>\n",
       "      <td>0.589131</td>\n",
       "      <td>0.159810</td>\n",
       "      <td>0.777023</td>\n",
       "      <td>0.748941</td>\n",
       "    </tr>\n",
       "    <tr>\n",
       "      <th>B</th>\n",
       "      <td>0.791108</td>\n",
       "      <td>0.082328</td>\n",
       "      <td>0.811851</td>\n",
       "      <td>0.317126</td>\n",
       "      <td>0.894179</td>\n",
       "    </tr>\n",
       "    <tr>\n",
       "      <th>C</th>\n",
       "      <td>0.166927</td>\n",
       "      <td>0.279908</td>\n",
       "      <td>0.780668</td>\n",
       "      <td>0.999174</td>\n",
       "      <td>1.060577</td>\n",
       "    </tr>\n",
       "  </tbody>\n",
       "</table>\n",
       "</div>"
      ],
      "text/plain": [
       "      Col 1     Col 2     Col 3     Col 4  Col baru\n",
       "A  0.034172  0.589131  0.159810  0.777023  0.748941\n",
       "B  0.791108  0.082328  0.811851  0.317126  0.894179\n",
       "C  0.166927  0.279908  0.780668  0.999174  1.060577"
      ]
     },
     "execution_count": 10,
     "metadata": {},
     "output_type": "execute_result"
    }
   ],
   "source": [
    "df1"
   ]
  },
  {
   "cell_type": "code",
   "execution_count": 11,
   "id": "e8947956",
   "metadata": {},
   "outputs": [
    {
     "data": {
      "text/html": [
       "<div>\n",
       "<style scoped>\n",
       "    .dataframe tbody tr th:only-of-type {\n",
       "        vertical-align: middle;\n",
       "    }\n",
       "\n",
       "    .dataframe tbody tr th {\n",
       "        vertical-align: top;\n",
       "    }\n",
       "\n",
       "    .dataframe thead th {\n",
       "        text-align: right;\n",
       "    }\n",
       "</style>\n",
       "<table border=\"1\" class=\"dataframe\">\n",
       "  <thead>\n",
       "    <tr style=\"text-align: right;\">\n",
       "      <th></th>\n",
       "      <th>Col 1</th>\n",
       "      <th>Col 3</th>\n",
       "      <th>Col 4</th>\n",
       "      <th>Col baru</th>\n",
       "    </tr>\n",
       "  </thead>\n",
       "  <tbody>\n",
       "    <tr>\n",
       "      <th>A</th>\n",
       "      <td>0.034172</td>\n",
       "      <td>0.159810</td>\n",
       "      <td>0.777023</td>\n",
       "      <td>0.748941</td>\n",
       "    </tr>\n",
       "    <tr>\n",
       "      <th>C</th>\n",
       "      <td>0.166927</td>\n",
       "      <td>0.780668</td>\n",
       "      <td>0.999174</td>\n",
       "      <td>1.060577</td>\n",
       "    </tr>\n",
       "  </tbody>\n",
       "</table>\n",
       "</div>"
      ],
      "text/plain": [
       "      Col 1     Col 3     Col 4  Col baru\n",
       "A  0.034172  0.159810  0.777023  0.748941\n",
       "C  0.166927  0.780668  0.999174  1.060577"
      ]
     },
     "execution_count": 11,
     "metadata": {},
     "output_type": "execute_result"
    }
   ],
   "source": [
    "# Menghapus kolom atau baris\n",
    "\n",
    "# Menghapus baris B\n",
    "df1= df1.drop('B')\n",
    "# Menghapus kolom Col 2\n",
    "df1.drop('Col 2', axis=1, inplace=True)\n",
    "df1"
   ]
  },
  {
   "cell_type": "code",
   "execution_count": 12,
   "id": "e69d6838",
   "metadata": {},
   "outputs": [
    {
     "data": {
      "text/html": [
       "<div>\n",
       "<style scoped>\n",
       "    .dataframe tbody tr th:only-of-type {\n",
       "        vertical-align: middle;\n",
       "    }\n",
       "\n",
       "    .dataframe tbody tr th {\n",
       "        vertical-align: top;\n",
       "    }\n",
       "\n",
       "    .dataframe thead th {\n",
       "        text-align: right;\n",
       "    }\n",
       "</style>\n",
       "<table border=\"1\" class=\"dataframe\">\n",
       "  <thead>\n",
       "    <tr style=\"text-align: right;\">\n",
       "      <th></th>\n",
       "      <th>Col 1</th>\n",
       "      <th>Col 3</th>\n",
       "      <th>Col 4</th>\n",
       "      <th>Col baru</th>\n",
       "    </tr>\n",
       "  </thead>\n",
       "  <tbody>\n",
       "    <tr>\n",
       "      <th>A</th>\n",
       "      <td>False</td>\n",
       "      <td>False</td>\n",
       "      <td>True</td>\n",
       "      <td>True</td>\n",
       "    </tr>\n",
       "    <tr>\n",
       "      <th>C</th>\n",
       "      <td>False</td>\n",
       "      <td>True</td>\n",
       "      <td>True</td>\n",
       "      <td>True</td>\n",
       "    </tr>\n",
       "  </tbody>\n",
       "</table>\n",
       "</div>"
      ],
      "text/plain": [
       "   Col 1  Col 3  Col 4  Col baru\n",
       "A  False  False   True      True\n",
       "C  False   True   True      True"
      ]
     },
     "execution_count": 12,
     "metadata": {},
     "output_type": "execute_result"
    }
   ],
   "source": [
    "# Membuat tabel boolean jika angka lebih besar dari 0.5\n",
    "df1>0.5"
   ]
  },
  {
   "cell_type": "code",
   "execution_count": 13,
   "id": "f7355bd4",
   "metadata": {},
   "outputs": [
    {
     "data": {
      "text/html": [
       "<div>\n",
       "<style scoped>\n",
       "    .dataframe tbody tr th:only-of-type {\n",
       "        vertical-align: middle;\n",
       "    }\n",
       "\n",
       "    .dataframe tbody tr th {\n",
       "        vertical-align: top;\n",
       "    }\n",
       "\n",
       "    .dataframe thead th {\n",
       "        text-align: right;\n",
       "    }\n",
       "</style>\n",
       "<table border=\"1\" class=\"dataframe\">\n",
       "  <thead>\n",
       "    <tr style=\"text-align: right;\">\n",
       "      <th></th>\n",
       "      <th>Col 1</th>\n",
       "      <th>Col 3</th>\n",
       "      <th>Col 4</th>\n",
       "      <th>Col baru</th>\n",
       "    </tr>\n",
       "  </thead>\n",
       "  <tbody>\n",
       "    <tr>\n",
       "      <th>A</th>\n",
       "      <td>NaN</td>\n",
       "      <td>NaN</td>\n",
       "      <td>0.777023</td>\n",
       "      <td>0.748941</td>\n",
       "    </tr>\n",
       "    <tr>\n",
       "      <th>C</th>\n",
       "      <td>NaN</td>\n",
       "      <td>0.780668</td>\n",
       "      <td>0.999174</td>\n",
       "      <td>1.060577</td>\n",
       "    </tr>\n",
       "  </tbody>\n",
       "</table>\n",
       "</div>"
      ],
      "text/plain": [
       "   Col 1     Col 3     Col 4  Col baru\n",
       "A    NaN       NaN  0.777023  0.748941\n",
       "C    NaN  0.780668  0.999174  1.060577"
      ]
     },
     "execution_count": 13,
     "metadata": {},
     "output_type": "execute_result"
    }
   ],
   "source": [
    "# Menghilangkan data yang nilainya lebih kecil dari 0.5\n",
    "df1[df1>0.5]"
   ]
  },
  {
   "cell_type": "code",
   "execution_count": 14,
   "id": "b38fbf02",
   "metadata": {},
   "outputs": [
    {
     "data": {
      "text/html": [
       "<div>\n",
       "<style scoped>\n",
       "    .dataframe tbody tr th:only-of-type {\n",
       "        vertical-align: middle;\n",
       "    }\n",
       "\n",
       "    .dataframe tbody tr th {\n",
       "        vertical-align: top;\n",
       "    }\n",
       "\n",
       "    .dataframe thead th {\n",
       "        text-align: right;\n",
       "    }\n",
       "</style>\n",
       "<table border=\"1\" class=\"dataframe\">\n",
       "  <thead>\n",
       "    <tr style=\"text-align: right;\">\n",
       "      <th></th>\n",
       "      <th>Col 1</th>\n",
       "      <th>Col 2</th>\n",
       "      <th>Col 3</th>\n",
       "      <th>Col 4</th>\n",
       "    </tr>\n",
       "  </thead>\n",
       "  <tbody>\n",
       "  </tbody>\n",
       "</table>\n",
       "</div>"
      ],
      "text/plain": [
       "Empty DataFrame\n",
       "Columns: [Col 1, Col 2, Col 3, Col 4]\n",
       "Index: []"
      ]
     },
     "execution_count": 14,
     "metadata": {},
     "output_type": "execute_result"
    }
   ],
   "source": [
    "# Hanya menampilkan kolom tertentu yang memiliki data bernilai < 0.5\n",
    "df1= pd.DataFrame(np.random.rand(3,4), ['A', 'B', 'C'], ['Col 1', 'Col 2', 'Col 3', 'Col 4'])\n",
    "df1[df1['Col 2']<0.5]"
   ]
  },
  {
   "cell_type": "markdown",
   "id": "7c5f4840",
   "metadata": {},
   "source": [
    "# DATA SET TITANIC"
   ]
  },
  {
   "cell_type": "code",
   "execution_count": 15,
   "id": "fa8a7628",
   "metadata": {},
   "outputs": [
    {
     "data": {
      "text/html": [
       "<div>\n",
       "<style scoped>\n",
       "    .dataframe tbody tr th:only-of-type {\n",
       "        vertical-align: middle;\n",
       "    }\n",
       "\n",
       "    .dataframe tbody tr th {\n",
       "        vertical-align: top;\n",
       "    }\n",
       "\n",
       "    .dataframe thead th {\n",
       "        text-align: right;\n",
       "    }\n",
       "</style>\n",
       "<table border=\"1\" class=\"dataframe\">\n",
       "  <thead>\n",
       "    <tr style=\"text-align: right;\">\n",
       "      <th></th>\n",
       "      <th>survived</th>\n",
       "      <th>sex</th>\n",
       "      <th>age</th>\n",
       "    </tr>\n",
       "  </thead>\n",
       "  <tbody>\n",
       "    <tr>\n",
       "      <th>0</th>\n",
       "      <td>0</td>\n",
       "      <td>male</td>\n",
       "      <td>22.0</td>\n",
       "    </tr>\n",
       "    <tr>\n",
       "      <th>1</th>\n",
       "      <td>1</td>\n",
       "      <td>female</td>\n",
       "      <td>38.0</td>\n",
       "    </tr>\n",
       "    <tr>\n",
       "      <th>2</th>\n",
       "      <td>1</td>\n",
       "      <td>female</td>\n",
       "      <td>26.0</td>\n",
       "    </tr>\n",
       "    <tr>\n",
       "      <th>3</th>\n",
       "      <td>1</td>\n",
       "      <td>female</td>\n",
       "      <td>35.0</td>\n",
       "    </tr>\n",
       "    <tr>\n",
       "      <th>4</th>\n",
       "      <td>0</td>\n",
       "      <td>male</td>\n",
       "      <td>35.0</td>\n",
       "    </tr>\n",
       "    <tr>\n",
       "      <th>...</th>\n",
       "      <td>...</td>\n",
       "      <td>...</td>\n",
       "      <td>...</td>\n",
       "    </tr>\n",
       "    <tr>\n",
       "      <th>886</th>\n",
       "      <td>0</td>\n",
       "      <td>male</td>\n",
       "      <td>27.0</td>\n",
       "    </tr>\n",
       "    <tr>\n",
       "      <th>887</th>\n",
       "      <td>1</td>\n",
       "      <td>female</td>\n",
       "      <td>19.0</td>\n",
       "    </tr>\n",
       "    <tr>\n",
       "      <th>888</th>\n",
       "      <td>0</td>\n",
       "      <td>female</td>\n",
       "      <td>NaN</td>\n",
       "    </tr>\n",
       "    <tr>\n",
       "      <th>889</th>\n",
       "      <td>1</td>\n",
       "      <td>male</td>\n",
       "      <td>26.0</td>\n",
       "    </tr>\n",
       "    <tr>\n",
       "      <th>890</th>\n",
       "      <td>0</td>\n",
       "      <td>male</td>\n",
       "      <td>32.0</td>\n",
       "    </tr>\n",
       "  </tbody>\n",
       "</table>\n",
       "<p>891 rows × 3 columns</p>\n",
       "</div>"
      ],
      "text/plain": [
       "     survived     sex   age\n",
       "0           0    male  22.0\n",
       "1           1  female  38.0\n",
       "2           1  female  26.0\n",
       "3           1  female  35.0\n",
       "4           0    male  35.0\n",
       "..        ...     ...   ...\n",
       "886         0    male  27.0\n",
       "887         1  female  19.0\n",
       "888         0  female   NaN\n",
       "889         1    male  26.0\n",
       "890         0    male  32.0\n",
       "\n",
       "[891 rows x 3 columns]"
      ]
     },
     "execution_count": 15,
     "metadata": {},
     "output_type": "execute_result"
    }
   ],
   "source": [
    "df_titanic= pd.read_csv('titanic_data_set.csv')\n",
    "\n",
    "# Memilah kolom apa yang akan digunakan\n",
    "df_titanic= df_titanic[['survived', 'sex', 'age']]\n",
    "\n",
    "df_titanic"
   ]
  },
  {
   "cell_type": "code",
   "execution_count": 16,
   "id": "5f72b7ed",
   "metadata": {},
   "outputs": [
    {
     "data": {
      "text/html": [
       "<div>\n",
       "<style scoped>\n",
       "    .dataframe tbody tr th:only-of-type {\n",
       "        vertical-align: middle;\n",
       "    }\n",
       "\n",
       "    .dataframe tbody tr th {\n",
       "        vertical-align: top;\n",
       "    }\n",
       "\n",
       "    .dataframe thead th {\n",
       "        text-align: right;\n",
       "    }\n",
       "</style>\n",
       "<table border=\"1\" class=\"dataframe\">\n",
       "  <thead>\n",
       "    <tr style=\"text-align: right;\">\n",
       "      <th></th>\n",
       "      <th>survived</th>\n",
       "      <th>sex</th>\n",
       "      <th>age</th>\n",
       "    </tr>\n",
       "  </thead>\n",
       "  <tbody>\n",
       "    <tr>\n",
       "      <th>0</th>\n",
       "      <td>False</td>\n",
       "      <td>False</td>\n",
       "      <td>False</td>\n",
       "    </tr>\n",
       "    <tr>\n",
       "      <th>1</th>\n",
       "      <td>False</td>\n",
       "      <td>False</td>\n",
       "      <td>False</td>\n",
       "    </tr>\n",
       "    <tr>\n",
       "      <th>2</th>\n",
       "      <td>False</td>\n",
       "      <td>False</td>\n",
       "      <td>False</td>\n",
       "    </tr>\n",
       "    <tr>\n",
       "      <th>3</th>\n",
       "      <td>False</td>\n",
       "      <td>False</td>\n",
       "      <td>False</td>\n",
       "    </tr>\n",
       "    <tr>\n",
       "      <th>4</th>\n",
       "      <td>False</td>\n",
       "      <td>False</td>\n",
       "      <td>False</td>\n",
       "    </tr>\n",
       "    <tr>\n",
       "      <th>...</th>\n",
       "      <td>...</td>\n",
       "      <td>...</td>\n",
       "      <td>...</td>\n",
       "    </tr>\n",
       "    <tr>\n",
       "      <th>886</th>\n",
       "      <td>False</td>\n",
       "      <td>False</td>\n",
       "      <td>False</td>\n",
       "    </tr>\n",
       "    <tr>\n",
       "      <th>887</th>\n",
       "      <td>False</td>\n",
       "      <td>False</td>\n",
       "      <td>False</td>\n",
       "    </tr>\n",
       "    <tr>\n",
       "      <th>888</th>\n",
       "      <td>False</td>\n",
       "      <td>False</td>\n",
       "      <td>True</td>\n",
       "    </tr>\n",
       "    <tr>\n",
       "      <th>889</th>\n",
       "      <td>False</td>\n",
       "      <td>False</td>\n",
       "      <td>False</td>\n",
       "    </tr>\n",
       "    <tr>\n",
       "      <th>890</th>\n",
       "      <td>False</td>\n",
       "      <td>False</td>\n",
       "      <td>False</td>\n",
       "    </tr>\n",
       "  </tbody>\n",
       "</table>\n",
       "<p>891 rows × 3 columns</p>\n",
       "</div>"
      ],
      "text/plain": [
       "     survived    sex    age\n",
       "0       False  False  False\n",
       "1       False  False  False\n",
       "2       False  False  False\n",
       "3       False  False  False\n",
       "4       False  False  False\n",
       "..        ...    ...    ...\n",
       "886     False  False  False\n",
       "887     False  False  False\n",
       "888     False  False   True\n",
       "889     False  False  False\n",
       "890     False  False  False\n",
       "\n",
       "[891 rows x 3 columns]"
      ]
     },
     "execution_count": 16,
     "metadata": {},
     "output_type": "execute_result"
    }
   ],
   "source": [
    "# Mengecek setiap data df_titanic bernilai NaN atau tidak\n",
    "df_titanic.isna()"
   ]
  },
  {
   "cell_type": "code",
   "execution_count": 17,
   "id": "3b6d5c99",
   "metadata": {},
   "outputs": [
    {
     "data": {
      "text/plain": [
       "survived      0\n",
       "sex           0\n",
       "age         177\n",
       "dtype: int64"
      ]
     },
     "execution_count": 17,
     "metadata": {},
     "output_type": "execute_result"
    }
   ],
   "source": [
    "# Mengecek kolom df_titanic satu2 apakah mempunyai NaN\n",
    "df_titanic.isna().sum()"
   ]
  },
  {
   "cell_type": "code",
   "execution_count": 18,
   "id": "ea69100e",
   "metadata": {},
   "outputs": [
    {
     "data": {
      "text/plain": [
       "(714, 88)"
      ]
     },
     "execution_count": 18,
     "metadata": {},
     "output_type": "execute_result"
    }
   ],
   "source": [
    "# Cara melihat jumlah nilai tidak NaN suatu kolom tertentu, misal age\n",
    "age= df_titanic['age']\n",
    "age.count(), age.nunique(dropna=True) # <-- menghitung berapa data unik"
   ]
  },
  {
   "cell_type": "code",
   "execution_count": 19,
   "id": "ef1ece2b",
   "metadata": {},
   "outputs": [
    {
     "data": {
      "text/plain": [
       "count    714.000000\n",
       "mean      29.699118\n",
       "std       14.526497\n",
       "min        0.420000\n",
       "25%       20.125000\n",
       "50%       28.000000\n",
       "75%       38.000000\n",
       "max       80.000000\n",
       "Name: age, dtype: float64"
      ]
     },
     "execution_count": 19,
     "metadata": {},
     "output_type": "execute_result"
    }
   ],
   "source": [
    "# Untuk data lebih lengkapnya\n",
    "age.describe()"
   ]
  },
  {
   "cell_type": "code",
   "execution_count": 20,
   "id": "fb555db3",
   "metadata": {},
   "outputs": [
    {
     "data": {
      "text/plain": [
       "0      22.0\n",
       "1      38.0\n",
       "2      26.0\n",
       "3      35.0\n",
       "4      35.0\n",
       "       ... \n",
       "885    39.0\n",
       "886    27.0\n",
       "887    19.0\n",
       "889    26.0\n",
       "890    32.0\n",
       "Name: age, Length: 714, dtype: float64"
      ]
     },
     "execution_count": 20,
     "metadata": {},
     "output_type": "execute_result"
    }
   ],
   "source": [
    "# Memangkas baris yang bernilai NaN, menyisakan baris yang mempunyai nilai\n",
    "age_cleaned= age.dropna()\n",
    "age_cleaned"
   ]
  },
  {
   "cell_type": "code",
   "execution_count": 21,
   "id": "13e1baeb",
   "metadata": {},
   "outputs": [
    {
     "data": {
      "text/html": [
       "<div>\n",
       "<style scoped>\n",
       "    .dataframe tbody tr th:only-of-type {\n",
       "        vertical-align: middle;\n",
       "    }\n",
       "\n",
       "    .dataframe tbody tr th {\n",
       "        vertical-align: top;\n",
       "    }\n",
       "\n",
       "    .dataframe thead th {\n",
       "        text-align: right;\n",
       "    }\n",
       "</style>\n",
       "<table border=\"1\" class=\"dataframe\">\n",
       "  <thead>\n",
       "    <tr style=\"text-align: right;\">\n",
       "      <th></th>\n",
       "      <th>survived</th>\n",
       "      <th>sex</th>\n",
       "      <th>age</th>\n",
       "    </tr>\n",
       "  </thead>\n",
       "  <tbody>\n",
       "    <tr>\n",
       "      <th>0</th>\n",
       "      <td>0</td>\n",
       "      <td>male</td>\n",
       "      <td>22.0</td>\n",
       "    </tr>\n",
       "    <tr>\n",
       "      <th>1</th>\n",
       "      <td>1</td>\n",
       "      <td>female</td>\n",
       "      <td>38.0</td>\n",
       "    </tr>\n",
       "    <tr>\n",
       "      <th>2</th>\n",
       "      <td>1</td>\n",
       "      <td>female</td>\n",
       "      <td>26.0</td>\n",
       "    </tr>\n",
       "    <tr>\n",
       "      <th>3</th>\n",
       "      <td>1</td>\n",
       "      <td>female</td>\n",
       "      <td>35.0</td>\n",
       "    </tr>\n",
       "    <tr>\n",
       "      <th>4</th>\n",
       "      <td>0</td>\n",
       "      <td>male</td>\n",
       "      <td>35.0</td>\n",
       "    </tr>\n",
       "    <tr>\n",
       "      <th>...</th>\n",
       "      <td>...</td>\n",
       "      <td>...</td>\n",
       "      <td>...</td>\n",
       "    </tr>\n",
       "    <tr>\n",
       "      <th>885</th>\n",
       "      <td>0</td>\n",
       "      <td>female</td>\n",
       "      <td>39.0</td>\n",
       "    </tr>\n",
       "    <tr>\n",
       "      <th>886</th>\n",
       "      <td>0</td>\n",
       "      <td>male</td>\n",
       "      <td>27.0</td>\n",
       "    </tr>\n",
       "    <tr>\n",
       "      <th>887</th>\n",
       "      <td>1</td>\n",
       "      <td>female</td>\n",
       "      <td>19.0</td>\n",
       "    </tr>\n",
       "    <tr>\n",
       "      <th>889</th>\n",
       "      <td>1</td>\n",
       "      <td>male</td>\n",
       "      <td>26.0</td>\n",
       "    </tr>\n",
       "    <tr>\n",
       "      <th>890</th>\n",
       "      <td>0</td>\n",
       "      <td>male</td>\n",
       "      <td>32.0</td>\n",
       "    </tr>\n",
       "  </tbody>\n",
       "</table>\n",
       "<p>714 rows × 3 columns</p>\n",
       "</div>"
      ],
      "text/plain": [
       "     survived     sex   age\n",
       "0           0    male  22.0\n",
       "1           1  female  38.0\n",
       "2           1  female  26.0\n",
       "3           1  female  35.0\n",
       "4           0    male  35.0\n",
       "..        ...     ...   ...\n",
       "885         0  female  39.0\n",
       "886         0    male  27.0\n",
       "887         1  female  19.0\n",
       "889         1    male  26.0\n",
       "890         0    male  32.0\n",
       "\n",
       "[714 rows x 3 columns]"
      ]
     },
     "execution_count": 21,
     "metadata": {},
     "output_type": "execute_result"
    }
   ],
   "source": [
    "# Menghapus satu data pada suatu baris berarti menghapus keseluruhan baris\n",
    "# Misal, menghapus baris yang punya data NaN pada df_titanic\n",
    "df_titanic_dropna= df_titanic.dropna()\n",
    "df_titanic_dropna"
   ]
  },
  {
   "cell_type": "code",
   "execution_count": 22,
   "id": "d9b8d2bb",
   "metadata": {},
   "outputs": [
    {
     "data": {
      "text/html": [
       "<div>\n",
       "<style scoped>\n",
       "    .dataframe tbody tr th:only-of-type {\n",
       "        vertical-align: middle;\n",
       "    }\n",
       "\n",
       "    .dataframe tbody tr th {\n",
       "        vertical-align: top;\n",
       "    }\n",
       "\n",
       "    .dataframe thead th {\n",
       "        text-align: right;\n",
       "    }\n",
       "</style>\n",
       "<table border=\"1\" class=\"dataframe\">\n",
       "  <thead>\n",
       "    <tr style=\"text-align: right;\">\n",
       "      <th></th>\n",
       "      <th>survived</th>\n",
       "      <th>sex</th>\n",
       "      <th>age</th>\n",
       "    </tr>\n",
       "  </thead>\n",
       "  <tbody>\n",
       "    <tr>\n",
       "      <th>0</th>\n",
       "      <td>0</td>\n",
       "      <td>male</td>\n",
       "      <td>22.000000</td>\n",
       "    </tr>\n",
       "    <tr>\n",
       "      <th>1</th>\n",
       "      <td>1</td>\n",
       "      <td>female</td>\n",
       "      <td>38.000000</td>\n",
       "    </tr>\n",
       "    <tr>\n",
       "      <th>2</th>\n",
       "      <td>1</td>\n",
       "      <td>female</td>\n",
       "      <td>26.000000</td>\n",
       "    </tr>\n",
       "    <tr>\n",
       "      <th>3</th>\n",
       "      <td>1</td>\n",
       "      <td>female</td>\n",
       "      <td>35.000000</td>\n",
       "    </tr>\n",
       "    <tr>\n",
       "      <th>4</th>\n",
       "      <td>0</td>\n",
       "      <td>male</td>\n",
       "      <td>35.000000</td>\n",
       "    </tr>\n",
       "    <tr>\n",
       "      <th>...</th>\n",
       "      <td>...</td>\n",
       "      <td>...</td>\n",
       "      <td>...</td>\n",
       "    </tr>\n",
       "    <tr>\n",
       "      <th>886</th>\n",
       "      <td>0</td>\n",
       "      <td>male</td>\n",
       "      <td>27.000000</td>\n",
       "    </tr>\n",
       "    <tr>\n",
       "      <th>887</th>\n",
       "      <td>1</td>\n",
       "      <td>female</td>\n",
       "      <td>19.000000</td>\n",
       "    </tr>\n",
       "    <tr>\n",
       "      <th>888</th>\n",
       "      <td>0</td>\n",
       "      <td>female</td>\n",
       "      <td>29.699118</td>\n",
       "    </tr>\n",
       "    <tr>\n",
       "      <th>889</th>\n",
       "      <td>1</td>\n",
       "      <td>male</td>\n",
       "      <td>26.000000</td>\n",
       "    </tr>\n",
       "    <tr>\n",
       "      <th>890</th>\n",
       "      <td>0</td>\n",
       "      <td>male</td>\n",
       "      <td>32.000000</td>\n",
       "    </tr>\n",
       "  </tbody>\n",
       "</table>\n",
       "<p>891 rows × 3 columns</p>\n",
       "</div>"
      ],
      "text/plain": [
       "     survived     sex        age\n",
       "0           0    male  22.000000\n",
       "1           1  female  38.000000\n",
       "2           1  female  26.000000\n",
       "3           1  female  35.000000\n",
       "4           0    male  35.000000\n",
       "..        ...     ...        ...\n",
       "886         0    male  27.000000\n",
       "887         1  female  19.000000\n",
       "888         0  female  29.699118\n",
       "889         1    male  26.000000\n",
       "890         0    male  32.000000\n",
       "\n",
       "[891 rows x 3 columns]"
      ]
     },
     "execution_count": 22,
     "metadata": {},
     "output_type": "execute_result"
    }
   ],
   "source": [
    "# Tapi menghapus keseluruhan baris menimbulkan kerugian karena ada data yg hilang, hanya karena satu nilai kolom NaN\n",
    "# Cara mengatasinya adalah mengisinya dengan rata-rata\n",
    "df_titanic_fillna= df_titanic\n",
    "df_titanic_fillna.age= df_titanic_fillna.age.fillna(value=df_titanic_fillna.age.mean())\n",
    "df_titanic_fillna"
   ]
  },
  {
   "cell_type": "code",
   "execution_count": 41,
   "id": "5265bb55",
   "metadata": {},
   "outputs": [
    {
     "data": {
      "text/plain": [
       "survived    0\n",
       "sex         0\n",
       "age         0\n",
       "dtype: int64"
      ]
     },
     "execution_count": 41,
     "metadata": {},
     "output_type": "execute_result"
    }
   ],
   "source": [
    "# Mengecek jika terdapat null\n",
    "df_titanic_fillna.isna().sum()"
   ]
  },
  {
   "cell_type": "code",
   "execution_count": 25,
   "id": "b9282411",
   "metadata": {},
   "outputs": [
    {
     "data": {
      "text/plain": [
       "sex     survived\n",
       "female  0            2107.885000\n",
       "        1            6752.168235\n",
       "male    0           14590.004706\n",
       "        1            3011.855882\n",
       "Name: age, dtype: float64"
      ]
     },
     "execution_count": 25,
     "metadata": {},
     "output_type": "execute_result"
    }
   ],
   "source": [
    "df_titanic_fillna.groupby(['sex', 'survived'])['age'].sum()"
   ]
  },
  {
   "cell_type": "code",
   "execution_count": 42,
   "id": "e3f6129c",
   "metadata": {
    "scrolled": true
   },
   "outputs": [],
   "source": [
    "# Mengubah semua age menjadi float\n",
    "df_titanic_fillna['age']= df_titanic_fillna['age'].astype(float)"
   ]
  },
  {
   "cell_type": "markdown",
   "id": "48c95b46",
   "metadata": {},
   "source": [
    "### -- Tes Arules --"
   ]
  },
  {
   "cell_type": "code",
   "execution_count": 27,
   "id": "165320fd",
   "metadata": {},
   "outputs": [],
   "source": [
    "temp= df_titanic_fillna['age']"
   ]
  },
  {
   "cell_type": "code",
   "execution_count": 43,
   "id": "0b60105e",
   "metadata": {},
   "outputs": [],
   "source": [
    "# Membuat fungsi encode\n",
    "def hot_encode(x):\n",
    "    if(x<=12):\n",
    "        return 0\n",
    "    else:\n",
    "        return 1\n",
    "\n",
    "def sex_encode(x):\n",
    "    if(x=='female'):\n",
    "        return 0\n",
    "    else:\n",
    "        return 1"
   ]
  },
  {
   "cell_type": "code",
   "execution_count": 29,
   "id": "706a7275",
   "metadata": {},
   "outputs": [],
   "source": [
    "df_titanic_fillna_age_encode= df_titanic_fillna[['age']].applymap(hot_encode)"
   ]
  },
  {
   "cell_type": "code",
   "execution_count": 30,
   "id": "a0b9fe17",
   "metadata": {},
   "outputs": [],
   "source": [
    "df_titanic_fillna['age']= df_titanic_fillna_age_encode\n"
   ]
  },
  {
   "cell_type": "code",
   "execution_count": 31,
   "id": "f31c1b5c",
   "metadata": {},
   "outputs": [
    {
     "data": {
      "text/html": [
       "<div>\n",
       "<style scoped>\n",
       "    .dataframe tbody tr th:only-of-type {\n",
       "        vertical-align: middle;\n",
       "    }\n",
       "\n",
       "    .dataframe tbody tr th {\n",
       "        vertical-align: top;\n",
       "    }\n",
       "\n",
       "    .dataframe thead th {\n",
       "        text-align: right;\n",
       "    }\n",
       "</style>\n",
       "<table border=\"1\" class=\"dataframe\">\n",
       "  <thead>\n",
       "    <tr style=\"text-align: right;\">\n",
       "      <th></th>\n",
       "      <th>survived</th>\n",
       "      <th>sex</th>\n",
       "      <th>age</th>\n",
       "    </tr>\n",
       "  </thead>\n",
       "  <tbody>\n",
       "    <tr>\n",
       "      <th>0</th>\n",
       "      <td>0</td>\n",
       "      <td>male</td>\n",
       "      <td>1</td>\n",
       "    </tr>\n",
       "    <tr>\n",
       "      <th>1</th>\n",
       "      <td>1</td>\n",
       "      <td>female</td>\n",
       "      <td>1</td>\n",
       "    </tr>\n",
       "    <tr>\n",
       "      <th>2</th>\n",
       "      <td>1</td>\n",
       "      <td>female</td>\n",
       "      <td>1</td>\n",
       "    </tr>\n",
       "    <tr>\n",
       "      <th>3</th>\n",
       "      <td>1</td>\n",
       "      <td>female</td>\n",
       "      <td>1</td>\n",
       "    </tr>\n",
       "    <tr>\n",
       "      <th>4</th>\n",
       "      <td>0</td>\n",
       "      <td>male</td>\n",
       "      <td>1</td>\n",
       "    </tr>\n",
       "    <tr>\n",
       "      <th>...</th>\n",
       "      <td>...</td>\n",
       "      <td>...</td>\n",
       "      <td>...</td>\n",
       "    </tr>\n",
       "    <tr>\n",
       "      <th>886</th>\n",
       "      <td>0</td>\n",
       "      <td>male</td>\n",
       "      <td>1</td>\n",
       "    </tr>\n",
       "    <tr>\n",
       "      <th>887</th>\n",
       "      <td>1</td>\n",
       "      <td>female</td>\n",
       "      <td>1</td>\n",
       "    </tr>\n",
       "    <tr>\n",
       "      <th>888</th>\n",
       "      <td>0</td>\n",
       "      <td>female</td>\n",
       "      <td>1</td>\n",
       "    </tr>\n",
       "    <tr>\n",
       "      <th>889</th>\n",
       "      <td>1</td>\n",
       "      <td>male</td>\n",
       "      <td>1</td>\n",
       "    </tr>\n",
       "    <tr>\n",
       "      <th>890</th>\n",
       "      <td>0</td>\n",
       "      <td>male</td>\n",
       "      <td>1</td>\n",
       "    </tr>\n",
       "  </tbody>\n",
       "</table>\n",
       "<p>891 rows × 3 columns</p>\n",
       "</div>"
      ],
      "text/plain": [
       "     survived     sex age\n",
       "0           0    male   1\n",
       "1           1  female   1\n",
       "2           1  female   1\n",
       "3           1  female   1\n",
       "4           0    male   1\n",
       "..        ...     ...  ..\n",
       "886         0    male   1\n",
       "887         1  female   1\n",
       "888         0  female   1\n",
       "889         1    male   1\n",
       "890         0    male   1\n",
       "\n",
       "[891 rows x 3 columns]"
      ]
     },
     "execution_count": 31,
     "metadata": {},
     "output_type": "execute_result"
    }
   ],
   "source": [
    "df_titanic_fillna['age']= df_titanic_fillna['age'].astype('str')\n",
    "df_titanic_fillna"
   ]
  },
  {
   "cell_type": "code",
   "execution_count": 32,
   "id": "973eedd2",
   "metadata": {},
   "outputs": [],
   "source": [
    "df_titanic_fillna['sex']= df_titanic_fillna[['sex']].applymap(sex_encode)"
   ]
  },
  {
   "cell_type": "code",
   "execution_count": 33,
   "id": "6ebf8663",
   "metadata": {},
   "outputs": [],
   "source": [
    "df_titanic_fillna['age']= df_titanic_fillna['sex'].astype('int')"
   ]
  },
  {
   "cell_type": "code",
   "execution_count": 34,
   "id": "f5551823",
   "metadata": {},
   "outputs": [
    {
     "data": {
      "text/html": [
       "<div>\n",
       "<style scoped>\n",
       "    .dataframe tbody tr th:only-of-type {\n",
       "        vertical-align: middle;\n",
       "    }\n",
       "\n",
       "    .dataframe tbody tr th {\n",
       "        vertical-align: top;\n",
       "    }\n",
       "\n",
       "    .dataframe thead th {\n",
       "        text-align: right;\n",
       "    }\n",
       "</style>\n",
       "<table border=\"1\" class=\"dataframe\">\n",
       "  <thead>\n",
       "    <tr style=\"text-align: right;\">\n",
       "      <th></th>\n",
       "      <th>survived</th>\n",
       "      <th>sex</th>\n",
       "      <th>age</th>\n",
       "    </tr>\n",
       "  </thead>\n",
       "  <tbody>\n",
       "    <tr>\n",
       "      <th>0</th>\n",
       "      <td>0</td>\n",
       "      <td>1</td>\n",
       "      <td>1</td>\n",
       "    </tr>\n",
       "    <tr>\n",
       "      <th>1</th>\n",
       "      <td>1</td>\n",
       "      <td>0</td>\n",
       "      <td>0</td>\n",
       "    </tr>\n",
       "    <tr>\n",
       "      <th>2</th>\n",
       "      <td>1</td>\n",
       "      <td>0</td>\n",
       "      <td>0</td>\n",
       "    </tr>\n",
       "    <tr>\n",
       "      <th>3</th>\n",
       "      <td>1</td>\n",
       "      <td>0</td>\n",
       "      <td>0</td>\n",
       "    </tr>\n",
       "    <tr>\n",
       "      <th>4</th>\n",
       "      <td>0</td>\n",
       "      <td>1</td>\n",
       "      <td>1</td>\n",
       "    </tr>\n",
       "    <tr>\n",
       "      <th>...</th>\n",
       "      <td>...</td>\n",
       "      <td>...</td>\n",
       "      <td>...</td>\n",
       "    </tr>\n",
       "    <tr>\n",
       "      <th>886</th>\n",
       "      <td>0</td>\n",
       "      <td>1</td>\n",
       "      <td>1</td>\n",
       "    </tr>\n",
       "    <tr>\n",
       "      <th>887</th>\n",
       "      <td>1</td>\n",
       "      <td>0</td>\n",
       "      <td>0</td>\n",
       "    </tr>\n",
       "    <tr>\n",
       "      <th>888</th>\n",
       "      <td>0</td>\n",
       "      <td>0</td>\n",
       "      <td>0</td>\n",
       "    </tr>\n",
       "    <tr>\n",
       "      <th>889</th>\n",
       "      <td>1</td>\n",
       "      <td>1</td>\n",
       "      <td>1</td>\n",
       "    </tr>\n",
       "    <tr>\n",
       "      <th>890</th>\n",
       "      <td>0</td>\n",
       "      <td>1</td>\n",
       "      <td>1</td>\n",
       "    </tr>\n",
       "  </tbody>\n",
       "</table>\n",
       "<p>891 rows × 3 columns</p>\n",
       "</div>"
      ],
      "text/plain": [
       "     survived  sex  age\n",
       "0           0    1    1\n",
       "1           1    0    0\n",
       "2           1    0    0\n",
       "3           1    0    0\n",
       "4           0    1    1\n",
       "..        ...  ...  ...\n",
       "886         0    1    1\n",
       "887         1    0    0\n",
       "888         0    0    0\n",
       "889         1    1    1\n",
       "890         0    1    1\n",
       "\n",
       "[891 rows x 3 columns]"
      ]
     },
     "execution_count": 34,
     "metadata": {},
     "output_type": "execute_result"
    }
   ],
   "source": [
    "df_titanic_fillna"
   ]
  },
  {
   "cell_type": "code",
   "execution_count": 35,
   "id": "d83d3c1b",
   "metadata": {},
   "outputs": [],
   "source": [
    "df_rule= df_titanic_fillna.groupby(['sex','age'])['survived'].sum().unstack()"
   ]
  },
  {
   "cell_type": "code",
   "execution_count": 36,
   "id": "80adb2e4",
   "metadata": {},
   "outputs": [
    {
     "data": {
      "text/html": [
       "<div>\n",
       "<style scoped>\n",
       "    .dataframe tbody tr th:only-of-type {\n",
       "        vertical-align: middle;\n",
       "    }\n",
       "\n",
       "    .dataframe tbody tr th {\n",
       "        vertical-align: top;\n",
       "    }\n",
       "\n",
       "    .dataframe thead th {\n",
       "        text-align: right;\n",
       "    }\n",
       "</style>\n",
       "<table border=\"1\" class=\"dataframe\">\n",
       "  <thead>\n",
       "    <tr style=\"text-align: right;\">\n",
       "      <th>age</th>\n",
       "      <th>0</th>\n",
       "      <th>1</th>\n",
       "    </tr>\n",
       "    <tr>\n",
       "      <th>sex</th>\n",
       "      <th></th>\n",
       "      <th></th>\n",
       "    </tr>\n",
       "  </thead>\n",
       "  <tbody>\n",
       "    <tr>\n",
       "      <th>0</th>\n",
       "      <td>233.0</td>\n",
       "      <td>NaN</td>\n",
       "    </tr>\n",
       "    <tr>\n",
       "      <th>1</th>\n",
       "      <td>NaN</td>\n",
       "      <td>109.0</td>\n",
       "    </tr>\n",
       "  </tbody>\n",
       "</table>\n",
       "</div>"
      ],
      "text/plain": [
       "age      0      1\n",
       "sex              \n",
       "0    233.0    NaN\n",
       "1      NaN  109.0"
      ]
     },
     "execution_count": 36,
     "metadata": {},
     "output_type": "execute_result"
    }
   ],
   "source": [
    "df_rule"
   ]
  },
  {
   "cell_type": "code",
   "execution_count": 37,
   "id": "4c2ed124",
   "metadata": {},
   "outputs": [
    {
     "data": {
      "text/html": [
       "<div>\n",
       "<style scoped>\n",
       "    .dataframe tbody tr th:only-of-type {\n",
       "        vertical-align: middle;\n",
       "    }\n",
       "\n",
       "    .dataframe tbody tr th {\n",
       "        vertical-align: top;\n",
       "    }\n",
       "\n",
       "    .dataframe thead th {\n",
       "        text-align: right;\n",
       "    }\n",
       "</style>\n",
       "<table border=\"1\" class=\"dataframe\">\n",
       "  <thead>\n",
       "    <tr style=\"text-align: right;\">\n",
       "      <th></th>\n",
       "      <th>antecedents</th>\n",
       "      <th>consequents</th>\n",
       "      <th>antecedent support</th>\n",
       "      <th>consequent support</th>\n",
       "      <th>support</th>\n",
       "      <th>confidence</th>\n",
       "      <th>lift</th>\n",
       "      <th>leverage</th>\n",
       "      <th>conviction</th>\n",
       "    </tr>\n",
       "  </thead>\n",
       "  <tbody>\n",
       "    <tr>\n",
       "      <th>0</th>\n",
       "      <td>(age)</td>\n",
       "      <td>(sex)</td>\n",
       "      <td>0.647587</td>\n",
       "      <td>0.647587</td>\n",
       "      <td>0.647587</td>\n",
       "      <td>1.000000</td>\n",
       "      <td>1.544194</td>\n",
       "      <td>0.228218</td>\n",
       "      <td>inf</td>\n",
       "    </tr>\n",
       "    <tr>\n",
       "      <th>1</th>\n",
       "      <td>(sex)</td>\n",
       "      <td>(age)</td>\n",
       "      <td>0.647587</td>\n",
       "      <td>0.647587</td>\n",
       "      <td>0.647587</td>\n",
       "      <td>1.000000</td>\n",
       "      <td>1.544194</td>\n",
       "      <td>0.228218</td>\n",
       "      <td>inf</td>\n",
       "    </tr>\n",
       "    <tr>\n",
       "      <th>2</th>\n",
       "      <td>(age, survived)</td>\n",
       "      <td>(sex)</td>\n",
       "      <td>0.122334</td>\n",
       "      <td>0.647587</td>\n",
       "      <td>0.122334</td>\n",
       "      <td>1.000000</td>\n",
       "      <td>1.544194</td>\n",
       "      <td>0.043112</td>\n",
       "      <td>inf</td>\n",
       "    </tr>\n",
       "    <tr>\n",
       "      <th>3</th>\n",
       "      <td>(sex, survived)</td>\n",
       "      <td>(age)</td>\n",
       "      <td>0.122334</td>\n",
       "      <td>0.647587</td>\n",
       "      <td>0.122334</td>\n",
       "      <td>1.000000</td>\n",
       "      <td>1.544194</td>\n",
       "      <td>0.043112</td>\n",
       "      <td>inf</td>\n",
       "    </tr>\n",
       "    <tr>\n",
       "      <th>4</th>\n",
       "      <td>(age)</td>\n",
       "      <td>(sex, survived)</td>\n",
       "      <td>0.647587</td>\n",
       "      <td>0.122334</td>\n",
       "      <td>0.122334</td>\n",
       "      <td>0.188908</td>\n",
       "      <td>1.544194</td>\n",
       "      <td>0.043112</td>\n",
       "      <td>1.082079</td>\n",
       "    </tr>\n",
       "    <tr>\n",
       "      <th>5</th>\n",
       "      <td>(sex)</td>\n",
       "      <td>(age, survived)</td>\n",
       "      <td>0.647587</td>\n",
       "      <td>0.122334</td>\n",
       "      <td>0.122334</td>\n",
       "      <td>0.188908</td>\n",
       "      <td>1.544194</td>\n",
       "      <td>0.043112</td>\n",
       "      <td>1.082079</td>\n",
       "    </tr>\n",
       "  </tbody>\n",
       "</table>\n",
       "</div>"
      ],
      "text/plain": [
       "       antecedents      consequents  antecedent support  consequent support  \\\n",
       "0            (age)            (sex)            0.647587            0.647587   \n",
       "1            (sex)            (age)            0.647587            0.647587   \n",
       "2  (age, survived)            (sex)            0.122334            0.647587   \n",
       "3  (sex, survived)            (age)            0.122334            0.647587   \n",
       "4            (age)  (sex, survived)            0.647587            0.122334   \n",
       "5            (sex)  (age, survived)            0.647587            0.122334   \n",
       "\n",
       "    support  confidence      lift  leverage  conviction  \n",
       "0  0.647587    1.000000  1.544194  0.228218         inf  \n",
       "1  0.647587    1.000000  1.544194  0.228218         inf  \n",
       "2  0.122334    1.000000  1.544194  0.043112         inf  \n",
       "3  0.122334    1.000000  1.544194  0.043112         inf  \n",
       "4  0.122334    0.188908  1.544194  0.043112    1.082079  \n",
       "5  0.122334    0.188908  1.544194  0.043112    1.082079  "
      ]
     },
     "execution_count": 37,
     "metadata": {},
     "output_type": "execute_result"
    }
   ],
   "source": [
    "frq_items= apriori(df_titanic_fillna, min_support=0.05, use_colnames=True)\n",
    "\n",
    "# Mengumpulkan aturan yang disimpulkan dalam data frame\n",
    "arules= association_rules(frq_items, metric='lift', min_threshold=1)\n",
    "arules.sort_values(['confidence','lift'], ascending=[False,False])"
   ]
  }
 ],
 "metadata": {
  "kernelspec": {
   "display_name": "Python 3 (ipykernel)",
   "language": "python",
   "name": "python3"
  },
  "language_info": {
   "codemirror_mode": {
    "name": "ipython",
    "version": 3
   },
   "file_extension": ".py",
   "mimetype": "text/x-python",
   "name": "python",
   "nbconvert_exporter": "python",
   "pygments_lexer": "ipython3",
   "version": "3.7.7"
  }
 },
 "nbformat": 4,
 "nbformat_minor": 5
}
